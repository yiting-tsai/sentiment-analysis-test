{
 "cells": [
  {
   "cell_type": "markdown",
   "metadata": {},
   "source": [
    "# XLM-RoBERTa Transfer Learning for Sentiment Analysis on Multilingual data\n",
    "- goal : multi-class classification\n",
    "- labels : `positive`, `negative`, `neutral`\n",
    "- accelerator : TPU v3-8\n",
    "\n",
    "#### XLM-R \n",
    "> [HuggingFace Multilingual Model](https://huggingface.co/docs/transformers/multilingual#xlmroberta)\n",
    "> XLM-RoBERTa was trained on 2.5TB of newly created clean CommonCrawl data in 100 languages via masked language modeling MLM. \n",
    "> It provides strong gains over previously released multi-lingual models like mBERT or XLM on downstream tasks like classification, sequence labeling and question answering.\n",
    "\n",
    "- why not `xlm-roberta-base` but `jplu/tf-xlm-roberta-base` ?\n",
    "> Because the tensorflow version of model weights of `xlm-roberta-base` is deprecated. Plus, I decided to use Tensorflow Distribute due to its easier usage (Pytorch/XLA is recently having issues with wheels and image on Google Colab with TPUs). I found `jplu/tf-xlm-roberta-base` on HuggingFace model hub and then found this [kaggle notebook](https://www.kaggle.com/xhlulu/jigsaw-tpu-xlm-roberta#Submission) to be based on.\n",
    "\n",
    "#### model building process :\n",
    "Most processes are modularized into [functions](#hf). \n",
    "\n",
    "0. [import libraries, config TPU and set constant variables](#step0)\n",
    "1. [load datasets in dataframe](#step1) `load_data_into_dataframe(train_csv_location, test_csv_location)`\n",
    "2. [convert dependent variable (categorical) to one-hot-encoding](#step2) `encode_dependent_variable_in_OHE(train_df, label_name='sentiment', num_classes=3)`\n",
    "3. [create Transformers Tokenizer](#step3) `transformers.AutoTokenizer.from_pretrained('jplu/tf-xlm-roberta-base')`\n",
    "4. [split training data further into training and validation set](#step4) `split_train_validation(train_df, X_columns_name, label, validation_size=0.15, random_state=42)`\n",
    "5. let Transformers Tokenizer tokenizes and encodes texts in embedding `tokenizer_encode(texts, tokenizer=tokenizer, maxlen=512)`\n",
    "6. [load datasets in Tensorflow Dataset API for an efficient input pipeline](#step6) `load_into_tf_Dataset(tokenizer, train_texts, val_texts, y_train, y_valid, test_df, batch_size=BATCH_SIZE, prefetch_buffer_size=AUTO)`\n",
    "7. [instantiate transformer model](#step7) `transformers.TFAutoModel.from_pretrained('jplu/tf-xlm-roberta-base')`\n",
    "8. [create output layer on top of frozen body of XLM-r model](#step8) `build_model(transformer, num_classes=3, activation='softmax', max_len=512)`\n",
    "9. [set `EarlyStopping` by monitoring validation loss to prevent overfitting](#step9)\n",
    "10. [train model](#step10)\n",
    "11. [plot model performance after training](#step11) `plot_model_history(history, measures)`\n",
    "\n",
    "\n",
    "\n",
    "Please refer to another notebook `data_analysis.ipynb` for data analysis."
   ]
  },
  {
   "cell_type": "markdown",
   "metadata": {},
   "source": [
    "### 0. Import Libraries  <a class=\"anchor\" id=\"step0\"></a>"
   ]
  },
  {
   "cell_type": "code",
   "execution_count": 1,
   "metadata": {
    "execution": {
     "iopub.execute_input": "2022-01-31T17:26:45.282224Z",
     "iopub.status.busy": "2022-01-31T17:26:45.281532Z",
     "iopub.status.idle": "2022-01-31T17:26:53.284618Z",
     "shell.execute_reply": "2022-01-31T17:26:53.283542Z",
     "shell.execute_reply.started": "2022-01-31T17:26:45.282120Z"
    }
   },
   "outputs": [
    {
     "name": "stderr",
     "output_type": "stream",
     "text": [
      "2022-01-31 17:26:46.047083: W tensorflow/stream_executor/platform/default/dso_loader.cc:60] Could not load dynamic library 'libcudart.so.11.0'; dlerror: libcudart.so.11.0: cannot open shared object file: No such file or directory; LD_LIBRARY_PATH: /opt/conda/lib\n",
      "2022-01-31 17:26:46.047200: I tensorflow/stream_executor/cuda/cudart_stub.cc:29] Ignore above cudart dlerror if you do not have a GPU set up on your machine.\n"
     ]
    }
   ],
   "source": [
    "import os\n",
    "import numpy as np\n",
    "import pandas as pd\n",
    "import matplotlib.pyplot as plt\n",
    "from tqdm.notebook import tqdm\n",
    "from tqdm.keras import TqdmCallback\n",
    "\n",
    "import tensorflow as tf\n",
    "from sklearn.model_selection import train_test_split\n",
    "from sklearn.preprocessing import LabelEncoder\n",
    "from tensorflow.keras.utils import to_categorical\n",
    "from tensorflow.keras.layers import Dense, Input\n",
    "from tensorflow.keras.optimizers import Adam\n",
    "from tensorflow.keras.models import Model\n",
    "from tensorflow.keras.callbacks import EarlyStopping\n",
    "import tensorflow_addons as tfa \n",
    "import transformers\n",
    "from transformers import TFAutoModel, AutoTokenizer"
   ]
  },
  {
   "cell_type": "markdown",
   "metadata": {},
   "source": [
    "### 0. TPU Config"
   ]
  },
  {
   "cell_type": "code",
   "execution_count": 2,
   "metadata": {
    "execution": {
     "iopub.execute_input": "2022-01-31T17:26:53.286657Z",
     "iopub.status.busy": "2022-01-31T17:26:53.286423Z",
     "iopub.status.idle": "2022-01-31T17:26:59.463086Z",
     "shell.execute_reply": "2022-01-31T17:26:59.462168Z",
     "shell.execute_reply.started": "2022-01-31T17:26:53.286630Z"
    }
   },
   "outputs": [
    {
     "name": "stdout",
     "output_type": "stream",
     "text": [
      "Running on TPU  grpc://10.0.0.2:8470\n"
     ]
    },
    {
     "name": "stderr",
     "output_type": "stream",
     "text": [
      "2022-01-31 17:26:53.294232: I tensorflow/compiler/jit/xla_cpu_device.cc:41] Not creating XLA devices, tf_xla_enable_xla_devices not set\n",
      "2022-01-31 17:26:53.296722: W tensorflow/stream_executor/platform/default/dso_loader.cc:60] Could not load dynamic library 'libcuda.so.1'; dlerror: libcuda.so.1: cannot open shared object file: No such file or directory; LD_LIBRARY_PATH: /opt/conda/lib\n",
      "2022-01-31 17:26:53.296796: W tensorflow/stream_executor/cuda/cuda_driver.cc:326] failed call to cuInit: UNKNOWN ERROR (303)\n",
      "2022-01-31 17:26:53.296825: I tensorflow/stream_executor/cuda/cuda_diagnostics.cc:156] kernel driver does not appear to be running on this host (9a716730685b): /proc/driver/nvidia/version does not exist\n",
      "2022-01-31 17:26:53.299501: I tensorflow/core/platform/cpu_feature_guard.cc:142] This TensorFlow binary is optimized with oneAPI Deep Neural Network Library (oneDNN) to use the following CPU instructions in performance-critical operations:  AVX2 FMA\n",
      "To enable them in other operations, rebuild TensorFlow with the appropriate compiler flags.\n",
      "2022-01-31 17:26:53.300924: I tensorflow/compiler/jit/xla_gpu_device.cc:99] Not creating XLA devices, tf_xla_enable_xla_devices not set\n",
      "2022-01-31 17:26:53.306287: I tensorflow/compiler/jit/xla_gpu_device.cc:99] Not creating XLA devices, tf_xla_enable_xla_devices not set\n",
      "2022-01-31 17:26:53.337300: I tensorflow/core/distributed_runtime/rpc/grpc_channel.cc:301] Initialize GrpcChannelCache for job worker -> {0 -> 10.0.0.2:8470}\n",
      "2022-01-31 17:26:53.337356: I tensorflow/core/distributed_runtime/rpc/grpc_channel.cc:301] Initialize GrpcChannelCache for job localhost -> {0 -> localhost:30042}\n",
      "2022-01-31 17:26:53.356697: I tensorflow/core/distributed_runtime/rpc/grpc_channel.cc:301] Initialize GrpcChannelCache for job worker -> {0 -> 10.0.0.2:8470}\n",
      "2022-01-31 17:26:53.356787: I tensorflow/core/distributed_runtime/rpc/grpc_channel.cc:301] Initialize GrpcChannelCache for job localhost -> {0 -> localhost:30042}\n",
      "2022-01-31 17:26:53.358273: I tensorflow/core/distributed_runtime/rpc/grpc_server_lib.cc:411] Started server with target: grpc://localhost:30042\n"
     ]
    },
    {
     "name": "stdout",
     "output_type": "stream",
     "text": [
      "REPLICAS:  8\n"
     ]
    }
   ],
   "source": [
    "# Detect hardware, return appropriate distribution strategy\n",
    "try:\n",
    "    # TPU detection. No parameters necessary if TPU_NAME environment variable is\n",
    "    # set: this is always the case on Kaggle.\n",
    "    tpu = tf.distribute.cluster_resolver.TPUClusterResolver()\n",
    "    print('Running on TPU ', tpu.master())\n",
    "except ValueError:\n",
    "    tpu = None\n",
    "\n",
    "if tpu:\n",
    "    tf.config.experimental_connect_to_cluster(tpu)\n",
    "    tf.tpu.experimental.initialize_tpu_system(tpu)\n",
    "    strategy = tf.distribute.experimental.TPUStrategy(tpu)\n",
    "else:\n",
    "    # Default distribution strategy in Tensorflow. Works on CPU and single GPU.\n",
    "    strategy = tf.distribute.get_strategy()\n",
    "\n",
    "print(\"REPLICAS: \", strategy.num_replicas_in_sync)\n",
    "\n",
    "# AUTO set for prefetch buffer\n",
    "AUTO = tf.data.experimental.AUTOTUNE"
   ]
  },
  {
   "cell_type": "markdown",
   "metadata": {},
   "source": [
    "### 0. Config / Set Constant Variable"
   ]
  },
  {
   "cell_type": "code",
   "execution_count": 3,
   "metadata": {
    "execution": {
     "iopub.execute_input": "2022-01-31T17:26:59.465500Z",
     "iopub.status.busy": "2022-01-31T17:26:59.465199Z",
     "iopub.status.idle": "2022-01-31T17:26:59.470057Z",
     "shell.execute_reply": "2022-01-31T17:26:59.469364Z",
     "shell.execute_reply.started": "2022-01-31T17:26:59.465462Z"
    }
   },
   "outputs": [],
   "source": [
    "# seeds\n",
    "from numpy.random import seed\n",
    "seed(42)\n",
    "tf.random.set_seed(42)\n",
    "\n",
    "TRAIN_CSV_PATH = '../input/technical-test/train.csv'\n",
    "TEST_CSV_PATH = '../input/technical-test/test.csv'\n",
    "\n",
    "EPOCHS = 25\n",
    "BATCH_SIZE = 16 * strategy.num_replicas_in_sync\n",
    "MAX_LEN = 256\n",
    "MODEL_NAME = 'jplu/tf-xlm-roberta-base'"
   ]
  },
  {
   "cell_type": "markdown",
   "metadata": {},
   "source": [
    "## Helper Functions <a class=\"anchor\" id=\"hf\"></a>"
   ]
  },
  {
   "cell_type": "code",
   "execution_count": 4,
   "metadata": {
    "execution": {
     "iopub.execute_input": "2022-01-31T17:26:59.472115Z",
     "iopub.status.busy": "2022-01-31T17:26:59.471859Z",
     "iopub.status.idle": "2022-01-31T17:26:59.481431Z",
     "shell.execute_reply": "2022-01-31T17:26:59.480601Z",
     "shell.execute_reply.started": "2022-01-31T17:26:59.472045Z"
    }
   },
   "outputs": [],
   "source": [
    "# step 1. load datasets in dataframe\n",
    "\n",
    "def load_data_into_dataframe(train_csv_location, test_csv_location):\n",
    "    \"\"\"\n",
    "    Load CSV datasets into Pandas Dataframe.\n",
    "    \n",
    "    Parameters:\n",
    "    ------------\n",
    "    train_location : str\n",
    "        A string of path location of training dataset in csv format.\n",
    "    test_location : str \n",
    "        A string of path location of test dataset in csv format.\n",
    "        \n",
    "    Returns:\n",
    "    ------------\n",
    "    train_df : Pandas Dataframe\n",
    "        A Dataframe of training data.\n",
    "    test_df : Pandas Dataframe\n",
    "        A Dataframe of test data.\n",
    "    \"\"\"\n",
    "    # Load csv in Pandas Dataframe\n",
    "    train_df = pd.read_csv(train_csv_location)\n",
    "    test_df = pd.read_csv(test_csv_location)\n",
    "    \n",
    "    return train_df, test_df\n",
    "    "
   ]
  },
  {
   "cell_type": "code",
   "execution_count": 5,
   "metadata": {
    "execution": {
     "iopub.execute_input": "2022-01-31T17:26:59.482697Z",
     "iopub.status.busy": "2022-01-31T17:26:59.482488Z",
     "iopub.status.idle": "2022-01-31T17:26:59.494837Z",
     "shell.execute_reply": "2022-01-31T17:26:59.494177Z",
     "shell.execute_reply.started": "2022-01-31T17:26:59.482670Z"
    }
   },
   "outputs": [],
   "source": [
    "# step 2. convert dependent variable (categorical) to one-hot-encoding\n",
    "\n",
    "def encode_dependent_variable_in_OHE(train_df, label_name='sentiment'):\n",
    "    \"\"\"\n",
    "    Encode the sentiment labels in the training Dataframe into one hot encoded format, since in the top layer output Dense layer use 'categorical_crossentropy'.\n",
    "    \n",
    "    Parameters:\n",
    "    ------------\n",
    "    train_df : Pandas Dataframe\n",
    "        A Dataframe of loaded training data.\n",
    "    label_name : str\n",
    "        A string of column name indicating the output variable in the train_df.\n",
    "    num_classes : int\n",
    "        An integer indicating how many categories there are.\n",
    "    \n",
    "    Returns:\n",
    "    ------------\n",
    "    dummy_y : Numpy Array\n",
    "        A matrix of one-hot-encoded class labels.\n",
    "    \"\"\"    \n",
    "    # get array of sentiment labels \n",
    "    Y = train_df[label_name].values\n",
    "    \n",
    "    # encode label values as integers\n",
    "    encoder = LabelEncoder()\n",
    "    encoder.fit(Y)\n",
    "    encoded_Y = encoder.transform(Y)\n",
    "\n",
    "    # convert integers to dummy variables - one hot encoded\n",
    "    dummy_y = to_categorical(encoded_Y)\n",
    "    \n",
    "    return dummy_y"
   ]
  },
  {
   "cell_type": "code",
   "execution_count": 6,
   "metadata": {
    "execution": {
     "iopub.execute_input": "2022-01-31T17:26:59.496894Z",
     "iopub.status.busy": "2022-01-31T17:26:59.496060Z",
     "iopub.status.idle": "2022-01-31T17:26:59.507556Z",
     "shell.execute_reply": "2022-01-31T17:26:59.506923Z",
     "shell.execute_reply.started": "2022-01-31T17:26:59.496860Z"
    }
   },
   "outputs": [],
   "source": [
    "# step 4. split training data further into training and validation set\n",
    "\n",
    "def split_train_validation(train_df, X_columns_name, label, validation_size=0.15, random_state=42):\n",
    "    \"\"\"\n",
    "    Split training data into further training set and validation set in a ratio of ( 1-validation_size : validation_size).\n",
    "    In my case, I set 85% of the training data for training the model and 15% aside for validation.\n",
    "    \n",
    "    Parameters:\n",
    "    ------------\n",
    "    train_df : Pandas Dataframe\n",
    "        A Dataframe of loaded training data.\n",
    "    X_columns_name : str\n",
    "        A string of column name indicating the comments in texts in the train_df which will be used as independent variable for training.\n",
    "    label : Numpy Array or Tensorflow Tensor\n",
    "        An array of labels or a matrix of one-hot-encoded labels.\n",
    "    validation_size : float\n",
    "        A float number between 0-1 indicating desired validation size\n",
    "    random_state : int\n",
    "        Set the seed for reproucibility in splitting dataset.\n",
    "    \n",
    "    Returns:\n",
    "    ------------\n",
    "    train_texts : Numpy Array\n",
    "        An array of training set samples in textual format in the shape of (1-validation_size,).\n",
    "    val_texts : Numpy Array  \n",
    "        An array of validation set samples in textual format in the shape of (validation_size,).\n",
    "    y_train : Numpy Array  \n",
    "        An array of \n",
    "    y_valid : Numpy Array \n",
    "       \n",
    "    \"\"\"   \n",
    "    train_texts, val_texts, y_train, y_valid = train_test_split(train_df[X_columns_name].values, label, \n",
    "                                                  random_state=random_state, \n",
    "                                                  test_size=validation_size, shuffle=True)\n",
    "    \n",
    "    print('Total number of examples: ', len(train_df))\n",
    "    print('number of training set examples: ', len(train_texts))\n",
    "    print('number of validation set examples: ', len(val_texts))\n",
    "    \n",
    "    return train_texts, val_texts, y_train, y_valid"
   ]
  },
  {
   "cell_type": "code",
   "execution_count": 8,
   "metadata": {
    "execution": {
     "iopub.execute_input": "2022-01-31T17:27:25.044454Z",
     "iopub.status.busy": "2022-01-31T17:27:25.044182Z",
     "iopub.status.idle": "2022-01-31T17:27:25.051318Z",
     "shell.execute_reply": "2022-01-31T17:27:25.050246Z",
     "shell.execute_reply.started": "2022-01-31T17:27:25.044427Z"
    }
   },
   "outputs": [],
   "source": [
    "# step 5. let Transformers Tokenizer tokenizes and encodes texts in embedding\n",
    "\n",
    "def tokenizer_encode(texts, tokenizer, maxlen=512):\n",
    "    \"\"\"\n",
    "    Let Transformers Tokenizer API prepare the input data and encode, precisely tokenizing \n",
    "    \n",
    "    Parameters:\n",
    "    ------------\n",
    "    texts : list of str\n",
    "        A list of string to be encoded by the tokenizer.\n",
    "    tokenizer : Transformers AutoTokenizer\n",
    "        A Tensorflow AutoTokenizer object loaded in order to encode the text data.\n",
    "    max_len : int\n",
    "        An integer representing the maximun length of each sample, also as the shape of outputs from 'frozen' body of transformer model.\n",
    "        \n",
    "    Returns:\n",
    "    ------------\n",
    "    model : Numpy Array\n",
    "        An array of tokenizer-encoded vector from the texts.\n",
    "    \"\"\"\n",
    "    encoding = tokenizer.batch_encode_plus(\n",
    "        texts,\n",
    "        truncation=True,\n",
    "        return_attention_mask=False, \n",
    "        return_token_type_ids=False,\n",
    "        padding='max_length',\n",
    "        max_length=maxlen\n",
    "    )\n",
    "    \n",
    "    encoding_array = np.array(encoding['input_ids'])\n",
    "    \n",
    "    return encoding_array"
   ]
  },
  {
   "cell_type": "code",
   "execution_count": 9,
   "metadata": {
    "execution": {
     "iopub.execute_input": "2022-01-31T17:27:28.538245Z",
     "iopub.status.busy": "2022-01-31T17:27:28.537479Z",
     "iopub.status.idle": "2022-01-31T17:27:28.548730Z",
     "shell.execute_reply": "2022-01-31T17:27:28.547579Z",
     "shell.execute_reply.started": "2022-01-31T17:27:28.538211Z"
    }
   },
   "outputs": [],
   "source": [
    "# step 6. load datasets in Tensorflow Dataset API for an efficient input pipeline\n",
    "\n",
    "def load_into_tf_Dataset(tokenizer, train_texts, val_texts, y_train, y_valid, test_df, batch_size=BATCH_SIZE, prefetch_buffer_size=AUTO):\n",
    "    \"\"\"\n",
    "    Load splitted dataset of training, validation, and test into Tensorflow Dataset API for a more efficient input pipeline, especially for parallelism.\n",
    "    \n",
    "    Parameters:\n",
    "    ------------\n",
    "    tokenizer : Transformers AutoTokenizer\n",
    "        A Tensorflow AutoTokenizer object loaded in order to encode the text data.\n",
    "    train_texts : Numpy Array\n",
    "        An array of training set samples in textual format in the shape of (1-validation_size,).\n",
    "    val_texts : Numpy Array  \n",
    "        An array of validation set samples in textual format in the shape of (validation_size,).\n",
    "    y_train : Numpy Array  \n",
    "        An array of  in the shape of (1-validation_size,).\n",
    "    y_valid : Numpy Array  \n",
    "        An array of in the shape of (validation_size,).\n",
    "    test_df : Pandas Dataframe\n",
    "        A Dataframe of loaded test data.\n",
    "    batch_size : int\n",
    "        An integer indicating the size of the batch. Here uses 16*num_of_TPU_core (=128) by default.\n",
    "    prefetch_buffer_size :  tf.int64 , tf.Tensor or tf.data.AUTOTUNE\n",
    "        A scalar representing the maximum number of elements that will be buffered when prefetching. Here uses tf.data.AUTOTUNE (AUTO) by default.\n",
    "    \n",
    "    Returns \n",
    "    ------------\n",
    "    train_dataset : tf.data.Dataset\n",
    "        A Tensorflow Dataset API object of training set as an input pipeline for model training.\n",
    "    valid_dataset : tf.data.Dataset\n",
    "        A Tensorflow Dataset API object of validation set as an input pipeline for model validation.\n",
    "    test_dataset : tf.data.Dataset\n",
    "        A Tensorflow Dataset API object of test set as an input pipeline for model inference.\n",
    "    \"\"\"\n",
    "    ## Tokenize the textual format data by calling tokenizer_encode().\n",
    "    x_train = tokenizer_encode(texts=train_texts.tolist(), tokenizer=tokenizer, maxlen=MAX_LEN)\n",
    "    x_valid = tokenizer_encode(texts=val_texts.tolist(), tokenizer=tokenizer, maxlen=MAX_LEN)\n",
    "    x_test = tokenizer_encode(texts=test_df.content.values.tolist(), tokenizer=tokenizer, maxlen=MAX_LEN)\n",
    "    \n",
    "    \n",
    "    ## Build Tensorflow Dataset objects.\n",
    "    train_dataset = (\n",
    "        tf.data.Dataset\n",
    "        .from_tensor_slices((x_train, y_train))\n",
    "        .repeat()\n",
    "        .shuffle(2048)\n",
    "        .batch(BATCH_SIZE)\n",
    "        .prefetch(AUTO)\n",
    "    )\n",
    "\n",
    "    valid_dataset = (\n",
    "        tf.data.Dataset\n",
    "        .from_tensor_slices((x_valid, y_valid))\n",
    "        .batch(BATCH_SIZE)\n",
    "        .cache()\n",
    "        .prefetch(AUTO)\n",
    "    )\n",
    "\n",
    "    test_dataset = (\n",
    "        tf.data.Dataset\n",
    "        .from_tensor_slices(x_test)\n",
    "        .batch(BATCH_SIZE)\n",
    "    )\n",
    "    \n",
    "    return train_dataset, valid_dataset, test_dataset "
   ]
  },
  {
   "cell_type": "code",
   "execution_count": 10,
   "metadata": {
    "execution": {
     "iopub.execute_input": "2022-01-31T17:27:30.419416Z",
     "iopub.status.busy": "2022-01-31T17:27:30.418602Z",
     "iopub.status.idle": "2022-01-31T17:27:30.427686Z",
     "shell.execute_reply": "2022-01-31T17:27:30.427019Z",
     "shell.execute_reply.started": "2022-01-31T17:27:30.419379Z"
    }
   },
   "outputs": [],
   "source": [
    "# step 7. create output layer on top of frozen body of XLM-r model\n",
    "# function based on the notebook https://www.kaggle.com/xhlulu/jigsaw-tpu-distilbert-with-huggingface-and-keras\n",
    "\n",
    "def build_model(transformer, num_classes=3, activation='softmax', max_len=512):\n",
    "    \"\"\"\n",
    "    Create top layer on top of HuggingFace Transformer model for down-stream task. cls_token\n",
    "    In my case, a multi-class classification is the goal. Taking into account that there are 3 classes, \n",
    "    I use categorical accuracy, as well as weighted F1 score and Matthews correlation coefficient as metrics.\n",
    "    \n",
    "    Parameters:\n",
    "    ------------\n",
    "    transformer : Transformers TFAutoModel\n",
    "        A string of path location of training dataset in csv format.\n",
    "    num_classes : int\n",
    "        A integer representing num\n",
    "    activation : str\n",
    "        A string indicating which actvation to be used in the output layer. \n",
    "    max_len : int\n",
    "        An integer representing the maximun length of each sample, also as the shape of outputs from 'frozen' body of transformer model.\n",
    "        \n",
    "    Returns:\n",
    "    ------------\n",
    "    model : \n",
    "        configed model ready to be train\n",
    "    \"\"\"\n",
    "    input_word_ids = Input(shape=(max_len,), dtype=tf.int32, name=\"input_word_ids\")\n",
    "    sequence_output = transformer(input_word_ids)[0]\n",
    "    cls_token = sequence_output[:, 0, :]\n",
    "    out = Dense(units=num_classes, activation=activation, name='softmax')(cls_token) # set units=3 because we have three classes\n",
    "    \n",
    "    # add weighted F1 score and Matthews correlation coefficient as metrics\n",
    "    f1 = tfa.metrics.F1Score(num_classes=num_classes, average='weighted')\n",
    "    mcc = tfa.metrics.MatthewsCorrelationCoefficient(num_classes=num_classes)\n",
    "    \n",
    "    model = Model(inputs=input_word_ids, outputs=out)\n",
    "    model.compile(Adam(lr=1e-5), loss='categorical_crossentropy', metrics=['categorical_accuracy', f1, mcc])\n",
    "    \n",
    "    return model"
   ]
  },
  {
   "cell_type": "code",
   "execution_count": 11,
   "metadata": {
    "execution": {
     "iopub.execute_input": "2022-01-31T17:27:31.604588Z",
     "iopub.status.busy": "2022-01-31T17:27:31.604087Z",
     "iopub.status.idle": "2022-01-31T17:27:31.610830Z",
     "shell.execute_reply": "2022-01-31T17:27:31.610196Z",
     "shell.execute_reply.started": "2022-01-31T17:27:31.604555Z"
    }
   },
   "outputs": [],
   "source": [
    "# step 10. plot model performance after training\n",
    "\n",
    "def plot_model_history(history, measures):\n",
    "    \"\"\"\n",
    "    Plot history for visualization of performance measures in matplotlib.\n",
    "    \n",
    "    Parameters:\n",
    "    ------------\n",
    "    history : Keras History object\n",
    "        A History object outputted from model.fit\n",
    "    measure : str list \n",
    "        A list of string of which performance measures to be visualized    \n",
    "    \"\"\"\n",
    "    for measure in measures:\n",
    "        plt.plot(history.history[measure])\n",
    "        plt.plot(history.history['val_' + measure])\n",
    "        plt.title('model performance : ' + measure.replace(\"_\", \" \"))\n",
    "        plt.ylabel(measure.replace(\"_\", \" \"))\n",
    "        plt.xlabel('epoch')\n",
    "        plt.legend(['train', 'test'], loc='upper left')\n",
    "        plt.show()"
   ]
  },
  {
   "cell_type": "markdown",
   "metadata": {},
   "source": [
    "### 1. Load datasets in dataframe <a class=\"anchor\" id=\"step1\"></a>"
   ]
  },
  {
   "cell_type": "code",
   "execution_count": 12,
   "metadata": {
    "execution": {
     "iopub.execute_input": "2022-01-31T17:27:34.523083Z",
     "iopub.status.busy": "2022-01-31T17:27:34.522804Z",
     "iopub.status.idle": "2022-01-31T17:27:34.795743Z",
     "shell.execute_reply": "2022-01-31T17:27:34.794706Z",
     "shell.execute_reply.started": "2022-01-31T17:27:34.523042Z"
    }
   },
   "outputs": [
    {
     "data": {
      "text/html": [
       "<div>\n",
       "<style scoped>\n",
       "    .dataframe tbody tr th:only-of-type {\n",
       "        vertical-align: middle;\n",
       "    }\n",
       "\n",
       "    .dataframe tbody tr th {\n",
       "        vertical-align: top;\n",
       "    }\n",
       "\n",
       "    .dataframe thead th {\n",
       "        text-align: right;\n",
       "    }\n",
       "</style>\n",
       "<table border=\"1\" class=\"dataframe\">\n",
       "  <thead>\n",
       "    <tr style=\"text-align: right;\">\n",
       "      <th></th>\n",
       "      <th>content</th>\n",
       "      <th>sentiment</th>\n",
       "    </tr>\n",
       "  </thead>\n",
       "  <tbody>\n",
       "    <tr>\n",
       "      <th>0</th>\n",
       "      <td>Не подошло.</td>\n",
       "      <td>negative</td>\n",
       "    </tr>\n",
       "    <tr>\n",
       "      <th>1</th>\n",
       "      <td>товара нет, деньги вернул</td>\n",
       "      <td>negative</td>\n",
       "    </tr>\n",
       "    <tr>\n",
       "      <th>2</th>\n",
       "      <td>[옵션]문풍지종류선택:3M실내용,규격선택:4. 대형</td>\n",
       "      <td>neutral</td>\n",
       "    </tr>\n",
       "    <tr>\n",
       "      <th>3</th>\n",
       "      <td>Kirain Alice rokoknya esse change wkwk</td>\n",
       "      <td>neutral</td>\n",
       "    </tr>\n",
       "    <tr>\n",
       "      <th>4</th>\n",
       "      <td>El hotel ideal para descansar y relajarte. El ...</td>\n",
       "      <td>positive</td>\n",
       "    </tr>\n",
       "    <tr>\n",
       "      <th>5</th>\n",
       "      <td>vendedor não cumpri com a venda, vende o produ...</td>\n",
       "      <td>negative</td>\n",
       "    </tr>\n",
       "    <tr>\n",
       "      <th>6</th>\n",
       "      <td>I agree with everybody who insulted this app i...</td>\n",
       "      <td>negative</td>\n",
       "    </tr>\n",
       "    <tr>\n",
       "      <th>7</th>\n",
       "      <td>L'ex Kenny Lawson'on fire' contro il suo passa...</td>\n",
       "      <td>neutral</td>\n",
       "    </tr>\n",
       "    <tr>\n",
       "      <th>8</th>\n",
       "      <td>Listrik Padam, 18 Kereta Api Terlambat</td>\n",
       "      <td>neutral</td>\n",
       "    </tr>\n",
       "    <tr>\n",
       "      <th>9</th>\n",
       "      <td>This product works well. Priced well. softens ...</td>\n",
       "      <td>positive</td>\n",
       "    </tr>\n",
       "  </tbody>\n",
       "</table>\n",
       "</div>"
      ],
      "text/plain": [
       "                                             content sentiment\n",
       "0                                        Не подошло.  negative\n",
       "1                          товара нет, деньги вернул  negative\n",
       "2                       [옵션]문풍지종류선택:3M실내용,규격선택:4. 대형   neutral\n",
       "3             Kirain Alice rokoknya esse change wkwk   neutral\n",
       "4  El hotel ideal para descansar y relajarte. El ...  positive\n",
       "5  vendedor não cumpri com a venda, vende o produ...  negative\n",
       "6  I agree with everybody who insulted this app i...  negative\n",
       "7  L'ex Kenny Lawson'on fire' contro il suo passa...   neutral\n",
       "8             Listrik Padam, 18 Kereta Api Terlambat   neutral\n",
       "9  This product works well. Priced well. softens ...  positive"
      ]
     },
     "execution_count": 12,
     "metadata": {},
     "output_type": "execute_result"
    }
   ],
   "source": [
    "train_df, test_df = load_data_into_dataframe(TRAIN_CSV_PATH, TEST_CSV_PATH)\n",
    "# print(train_df.shape[0]) #--> 25000\n",
    "# print(test_df.shape[0]) #--> 2500\n",
    "\n",
    "# train_df.sentiment.value_counts()\n",
    "# train_df.sentiment.value_counts() / # train_df.sentiment.value_counts().sum()\n",
    "\n",
    "# remove the one example with 'unassigned' label (data analysis is done beforehand, so I'll just proceed to delete this example here)\n",
    "train_df = train_df.drop(train_df[train_df.sentiment == 'unassigned'].index)\n",
    "train_df.head(10)"
   ]
  },
  {
   "cell_type": "markdown",
   "metadata": {},
   "source": [
    "### 2. Convert dependent variable (categorical) to one-hot-encoding <a class=\"anchor\" id=\"step2\"></a>"
   ]
  },
  {
   "cell_type": "code",
   "execution_count": 16,
   "metadata": {
    "execution": {
     "iopub.execute_input": "2022-01-31T17:28:14.055697Z",
     "iopub.status.busy": "2022-01-31T17:28:14.054873Z",
     "iopub.status.idle": "2022-01-31T17:28:14.072546Z",
     "shell.execute_reply": "2022-01-31T17:28:14.071599Z",
     "shell.execute_reply.started": "2022-01-31T17:28:14.055639Z"
    }
   },
   "outputs": [
    {
     "name": "stdout",
     "output_type": "stream",
     "text": [
      "[[1. 0. 0.]\n",
      " [1. 0. 0.]\n",
      " [0. 1. 0.]\n",
      " [0. 1. 0.]\n",
      " [0. 0. 1.]]\n"
     ]
    }
   ],
   "source": [
    "ohe_y = encode_dependent_variable_in_OHE(train_df, label_name='sentiment')\n",
    "print(ohe_y[0:5])"
   ]
  },
  {
   "cell_type": "markdown",
   "metadata": {},
   "source": [
    "### 3. Create Transformers Tokenizer <a class=\"anchor\" id=\"step3\"></a>"
   ]
  },
  {
   "cell_type": "code",
   "execution_count": 14,
   "metadata": {
    "execution": {
     "iopub.execute_input": "2022-01-31T17:27:49.279638Z",
     "iopub.status.busy": "2022-01-31T17:27:49.279341Z",
     "iopub.status.idle": "2022-01-31T17:27:53.489766Z",
     "shell.execute_reply": "2022-01-31T17:27:53.488866Z",
     "shell.execute_reply.started": "2022-01-31T17:27:49.279608Z"
    }
   },
   "outputs": [
    {
     "data": {
      "application/vnd.jupyter.widget-view+json": {
       "model_id": "01f62a6e878c4be78a5d0ac72bdf97a2",
       "version_major": 2,
       "version_minor": 0
      },
      "text/plain": [
       "Downloading:   0%|          | 0.00/512 [00:00<?, ?B/s]"
      ]
     },
     "metadata": {},
     "output_type": "display_data"
    },
    {
     "data": {
      "application/vnd.jupyter.widget-view+json": {
       "model_id": "53497f2380694361ad43253280c89fea",
       "version_major": 2,
       "version_minor": 0
      },
      "text/plain": [
       "Downloading:   0%|          | 0.00/5.07M [00:00<?, ?B/s]"
      ]
     },
     "metadata": {},
     "output_type": "display_data"
    }
   ],
   "source": [
    "tokenizer = AutoTokenizer.from_pretrained(MODEL_NAME)"
   ]
  },
  {
   "cell_type": "markdown",
   "metadata": {},
   "source": [
    "### 4. Split training data further into training and validation set <a class=\"anchor\" id=\"step4\"></a>"
   ]
  },
  {
   "cell_type": "code",
   "execution_count": 17,
   "metadata": {
    "execution": {
     "iopub.execute_input": "2022-01-31T17:28:41.888275Z",
     "iopub.status.busy": "2022-01-31T17:28:41.887727Z",
     "iopub.status.idle": "2022-01-31T17:28:41.900835Z",
     "shell.execute_reply": "2022-01-31T17:28:41.899983Z",
     "shell.execute_reply.started": "2022-01-31T17:28:41.888238Z"
    }
   },
   "outputs": [
    {
     "name": "stdout",
     "output_type": "stream",
     "text": [
      "Total number of examples:  24999\n",
      "number of training set examples:  21249\n",
      "number of validation set examples:  3750\n"
     ]
    }
   ],
   "source": [
    "train_texts, val_texts, y_train, y_valid = split_train_validation(train_df, X_columns_name='content', label=ohe_y, validation_size=0.15, random_state=42)"
   ]
  },
  {
   "cell_type": "markdown",
   "metadata": {},
   "source": [
    "### 6. Load datasets in Tensorflow Dataset API for an efficient input pipeline <a class=\"anchor\" id=\"step6\"></a>\n",
    "(step 5 happens insides `load_into_tf_Dataset` function)"
   ]
  },
  {
   "cell_type": "code",
   "execution_count": 18,
   "metadata": {
    "execution": {
     "iopub.execute_input": "2022-01-31T17:28:52.425001Z",
     "iopub.status.busy": "2022-01-31T17:28:52.424448Z",
     "iopub.status.idle": "2022-01-31T17:28:57.312968Z",
     "shell.execute_reply": "2022-01-31T17:28:57.312221Z",
     "shell.execute_reply.started": "2022-01-31T17:28:52.424966Z"
    }
   },
   "outputs": [],
   "source": [
    "train_dataset, valid_dataset, test_dataset = load_into_tf_Dataset(tokenizer=tokenizer, train_texts=train_texts, val_texts=val_texts, \n",
    "                                                                  y_train=y_train, y_valid=y_valid, \n",
    "                                                                  test_df=test_df, batch_size=BATCH_SIZE, prefetch_buffer_size=AUTO)"
   ]
  },
  {
   "cell_type": "markdown",
   "metadata": {},
   "source": [
    "### 7. Create output layer on top of frozen body of XLM-r model <a class=\"anchor\" id=\"step7\"></a>"
   ]
  },
  {
   "cell_type": "markdown",
   "metadata": {},
   "source": [
    "#### Load Model into TPU"
   ]
  },
  {
   "cell_type": "code",
   "execution_count": 19,
   "metadata": {
    "execution": {
     "iopub.execute_input": "2022-01-31T17:30:31.495969Z",
     "iopub.status.busy": "2022-01-31T17:30:31.495124Z",
     "iopub.status.idle": "2022-01-31T17:31:51.815935Z",
     "shell.execute_reply": "2022-01-31T17:31:51.814946Z",
     "shell.execute_reply.started": "2022-01-31T17:30:31.495927Z"
    }
   },
   "outputs": [
    {
     "data": {
      "application/vnd.jupyter.widget-view+json": {
       "model_id": "5d12a18bd6ac46c89df7415dacf5bfd8",
       "version_major": 2,
       "version_minor": 0
      },
      "text/plain": [
       "Downloading:   0%|          | 0.00/1.89G [00:00<?, ?B/s]"
      ]
     },
     "metadata": {},
     "output_type": "display_data"
    },
    {
     "name": "stderr",
     "output_type": "stream",
     "text": [
      "Some layers from the model checkpoint at jplu/tf-xlm-roberta-base were not used when initializing TFXLMRobertaModel: ['lm_head']\n",
      "- This IS expected if you are initializing TFXLMRobertaModel from the checkpoint of a model trained on another task or with another architecture (e.g. initializing a BertForSequenceClassification model from a BertForPreTraining model).\n",
      "- This IS NOT expected if you are initializing TFXLMRobertaModel from the checkpoint of a model that you expect to be exactly identical (initializing a BertForSequenceClassification model from a BertForSequenceClassification model).\n",
      "All the layers of TFXLMRobertaModel were initialized from the model checkpoint at jplu/tf-xlm-roberta-base.\n",
      "If your task is similar to the task the model of the checkpoint was trained on, you can already use TFXLMRobertaModel for predictions without further training.\n"
     ]
    },
    {
     "name": "stdout",
     "output_type": "stream",
     "text": [
      "Model: \"model\"\n",
      "_________________________________________________________________\n",
      "Layer (type)                 Output Shape              Param #   \n",
      "=================================================================\n",
      "input_word_ids (InputLayer)  [(None, 256)]             0         \n",
      "_________________________________________________________________\n",
      "tfxlm_roberta_model (TFXLMRo TFBaseModelOutputWithPool 278043648 \n",
      "_________________________________________________________________\n",
      "tf.__operators__.getitem (Sl (None, 768)               0         \n",
      "_________________________________________________________________\n",
      "softmax (Dense)              (None, 3)                 2307      \n",
      "=================================================================\n",
      "Total params: 278,045,955\n",
      "Trainable params: 278,045,955\n",
      "Non-trainable params: 0\n",
      "_________________________________________________________________\n",
      "CPU times: user 59.6 s, sys: 18.4 s, total: 1min 17s\n",
      "Wall time: 1min 20s\n"
     ]
    }
   ],
   "source": [
    "%%time\n",
    "with strategy.scope():\n",
    "    transformer_layer = TFAutoModel.from_pretrained(MODEL_NAME)\n",
    "    model = build_model(transformer_layer, num_classes=3, activation='softmax', max_len=MAX_LEN)\n",
    "model.summary()"
   ]
  },
  {
   "cell_type": "markdown",
   "metadata": {},
   "source": [
    "### 8. Set `EarlyStopping` by monitoring validation loss to prevent overfitting <a class=\"anchor\" id=\"step8\"></a>"
   ]
  },
  {
   "cell_type": "code",
   "execution_count": 20,
   "metadata": {
    "execution": {
     "iopub.execute_input": "2022-01-31T17:32:39.230247Z",
     "iopub.status.busy": "2022-01-31T17:32:39.228790Z",
     "iopub.status.idle": "2022-01-31T17:32:39.236412Z",
     "shell.execute_reply": "2022-01-31T17:32:39.235660Z",
     "shell.execute_reply.started": "2022-01-31T17:32:39.230193Z"
    }
   },
   "outputs": [],
   "source": [
    "ES_callback = EarlyStopping(monitor='val_loss', patience=3, mode='auto')"
   ]
  },
  {
   "cell_type": "markdown",
   "metadata": {},
   "source": [
    "### 9. Train Model <a class=\"anchor\" id=\"step9\"></a>"
   ]
  },
  {
   "cell_type": "code",
   "execution_count": 21,
   "metadata": {
    "execution": {
     "iopub.execute_input": "2022-01-31T17:32:42.996756Z",
     "iopub.status.busy": "2022-01-31T17:32:42.996217Z",
     "iopub.status.idle": "2022-01-31T17:37:39.740060Z",
     "shell.execute_reply": "2022-01-31T17:37:39.739146Z",
     "shell.execute_reply.started": "2022-01-31T17:32:42.996724Z"
    }
   },
   "outputs": [
    {
     "data": {
      "application/vnd.jupyter.widget-view+json": {
       "model_id": "bb43addc0f104b58b03173e7e8042491",
       "version_major": 2,
       "version_minor": 0
      },
      "text/plain": [
       "0epoch [00:00, ?epoch/s]"
      ]
     },
     "metadata": {},
     "output_type": "display_data"
    },
    {
     "name": "stdout",
     "output_type": "stream",
     "text": [
      "Epoch 1/25\n"
     ]
    },
    {
     "data": {
      "application/vnd.jupyter.widget-view+json": {
       "model_id": "bd66dc11da1349c586ad25be23403066",
       "version_major": 2,
       "version_minor": 0
      },
      "text/plain": [
       "  0%|          | 0.00/166 [00:00<?, ?batch/s]"
      ]
     },
     "metadata": {},
     "output_type": "display_data"
    },
    {
     "name": "stderr",
     "output_type": "stream",
     "text": [
      "/opt/conda/lib/python3.7/site-packages/tensorflow/python/framework/indexed_slices.py:430: UserWarning: Converting sparse IndexedSlices to a dense Tensor with 192001536 elements. This may consume a large amount of memory.\n",
      "  num_elements)\n"
     ]
    },
    {
     "name": "stdout",
     "output_type": "stream",
     "text": [
      "166/166 [==============================] - 118s 271ms/step - loss: 1.0940 - categorical_accuracy: 0.3912 - f1_score: 0.3311 - MatthewsCorrelationCoefficient: 0.4081 - val_loss: 0.8768 - val_categorical_accuracy: 0.5699 - val_f1_score: 0.4903 - val_MatthewsCorrelationCoefficient: 0.4082\n",
      "Epoch 2/25\n"
     ]
    },
    {
     "data": {
      "application/vnd.jupyter.widget-view+json": {
       "model_id": "374d361b81174500bb6748df8a8d2da8",
       "version_major": 2,
       "version_minor": 0
      },
      "text/plain": [
       "  0%|          | 0.00/166 [00:00<?, ?batch/s]"
      ]
     },
     "metadata": {},
     "output_type": "display_data"
    },
    {
     "name": "stdout",
     "output_type": "stream",
     "text": [
      "166/166 [==============================] - 30s 179ms/step - loss: 0.7560 - categorical_accuracy: 0.5984 - f1_score: 0.5882 - MatthewsCorrelationCoefficient: 0.4081 - val_loss: 0.6833 - val_categorical_accuracy: 0.6589 - val_f1_score: 0.6558 - val_MatthewsCorrelationCoefficient: 0.4082\n",
      "Epoch 3/25\n"
     ]
    },
    {
     "data": {
      "application/vnd.jupyter.widget-view+json": {
       "model_id": "eb788d797e85424c95676d1ff867d305",
       "version_major": 2,
       "version_minor": 0
      },
      "text/plain": [
       "  0%|          | 0.00/166 [00:00<?, ?batch/s]"
      ]
     },
     "metadata": {},
     "output_type": "display_data"
    },
    {
     "name": "stdout",
     "output_type": "stream",
     "text": [
      "166/166 [==============================] - 30s 179ms/step - loss: 0.6373 - categorical_accuracy: 0.6914 - f1_score: 0.6892 - MatthewsCorrelationCoefficient: 0.4081 - val_loss: 0.5155 - val_categorical_accuracy: 0.7795 - val_f1_score: 0.7792 - val_MatthewsCorrelationCoefficient: 0.4082\n",
      "Epoch 4/25\n"
     ]
    },
    {
     "data": {
      "application/vnd.jupyter.widget-view+json": {
       "model_id": "b40f767b851d4eb3b077deb5077bcaec",
       "version_major": 2,
       "version_minor": 0
      },
      "text/plain": [
       "  0%|          | 0.00/166 [00:00<?, ?batch/s]"
      ]
     },
     "metadata": {},
     "output_type": "display_data"
    },
    {
     "name": "stdout",
     "output_type": "stream",
     "text": [
      "166/166 [==============================] - 30s 178ms/step - loss: 0.5259 - categorical_accuracy: 0.7762 - f1_score: 0.7756 - MatthewsCorrelationCoefficient: 0.4081 - val_loss: 0.4419 - val_categorical_accuracy: 0.8189 - val_f1_score: 0.8178 - val_MatthewsCorrelationCoefficient: 0.4082\n",
      "Epoch 5/25\n"
     ]
    },
    {
     "data": {
      "application/vnd.jupyter.widget-view+json": {
       "model_id": "ba93d31a36864edc9001d40d748cb420",
       "version_major": 2,
       "version_minor": 0
      },
      "text/plain": [
       "  0%|          | 0.00/166 [00:00<?, ?batch/s]"
      ]
     },
     "metadata": {},
     "output_type": "display_data"
    },
    {
     "name": "stdout",
     "output_type": "stream",
     "text": [
      "166/166 [==============================] - 30s 178ms/step - loss: 0.4946 - categorical_accuracy: 0.7870 - f1_score: 0.7873 - MatthewsCorrelationCoefficient: 0.4081 - val_loss: 0.4999 - val_categorical_accuracy: 0.7923 - val_f1_score: 0.7914 - val_MatthewsCorrelationCoefficient: 0.4082\n",
      "Epoch 6/25\n"
     ]
    },
    {
     "data": {
      "application/vnd.jupyter.widget-view+json": {
       "model_id": "d6acc1ff43124fa6bf86b8052c487a8a",
       "version_major": 2,
       "version_minor": 0
      },
      "text/plain": [
       "  0%|          | 0.00/166 [00:00<?, ?batch/s]"
      ]
     },
     "metadata": {},
     "output_type": "display_data"
    },
    {
     "name": "stdout",
     "output_type": "stream",
     "text": [
      "166/166 [==============================] - 30s 179ms/step - loss: 0.4749 - categorical_accuracy: 0.7943 - f1_score: 0.7943 - MatthewsCorrelationCoefficient: 0.4081 - val_loss: 0.4474 - val_categorical_accuracy: 0.8171 - val_f1_score: 0.8174 - val_MatthewsCorrelationCoefficient: 0.4082\n",
      "Epoch 7/25\n"
     ]
    },
    {
     "data": {
      "application/vnd.jupyter.widget-view+json": {
       "model_id": "efcbfe09c63a4b53b8c28df5308080cb",
       "version_major": 2,
       "version_minor": 0
      },
      "text/plain": [
       "  0%|          | 0.00/166 [00:00<?, ?batch/s]"
      ]
     },
     "metadata": {},
     "output_type": "display_data"
    },
    {
     "name": "stdout",
     "output_type": "stream",
     "text": [
      "166/166 [==============================] - 30s 179ms/step - loss: 0.4321 - categorical_accuracy: 0.8174 - f1_score: 0.8177 - MatthewsCorrelationCoefficient: 0.4081 - val_loss: 0.4631 - val_categorical_accuracy: 0.8072 - val_f1_score: 0.8088 - val_MatthewsCorrelationCoefficient: 0.4082\n"
     ]
    }
   ],
   "source": [
    "n_steps = train_texts.shape[0] // BATCH_SIZE\n",
    "\n",
    "train_history = model.fit(\n",
    "    train_dataset,\n",
    "    steps_per_epoch=n_steps,\n",
    "    validation_data=valid_dataset,\n",
    "    epochs=EPOCHS,\n",
    "    callbacks=[TqdmCallback(verbose=2), ES_callback]\n",
    ")"
   ]
  },
  {
   "cell_type": "markdown",
   "metadata": {},
   "source": [
    "### 10. Plot model performance after training <a class=\"anchor\" id=\"step10\"></a>"
   ]
  },
  {
   "cell_type": "code",
   "execution_count": 22,
   "metadata": {
    "execution": {
     "iopub.execute_input": "2022-01-31T17:37:39.742634Z",
     "iopub.status.busy": "2022-01-31T17:37:39.742315Z",
     "iopub.status.idle": "2022-01-31T17:37:40.649836Z",
     "shell.execute_reply": "2022-01-31T17:37:40.648974Z",
     "shell.execute_reply.started": "2022-01-31T17:37:39.742593Z"
    }
   },
   "outputs": [
    {
     "data": {
      "image/png": "[encoded data removed]",
      "text/plain": [
       "<Figure size 432x288 with 1 Axes>"
      ]
     },
     "metadata": {
      "needs_background": "light"
     },
     "output_type": "display_data"
    },
    {
     "data": {
      "image/png": "[encoded data removed]",
      "text/plain": [
       "<Figure size 432x288 with 1 Axes>"
      ]
     },
     "metadata": {
      "needs_background": "light"
     },
     "output_type": "display_data"
    },
    {
     "data": {
      "image/png": "[encoded data removed]",
      "text/plain": [
       "<Figure size 432x288 with 1 Axes>"
      ]
     },
     "metadata": {
      "needs_background": "light"
     },
     "output_type": "display_data"
    },
    {
     "data": {
      "image/png": "[encoded data removed]",
      "text/plain": [
       "<Figure size 432x288 with 1 Axes>"
      ]
     },
     "metadata": {
      "needs_background": "light"
     },
     "output_type": "display_data"
    }
   ],
   "source": [
    "plot_model_history(train_history, ['categorical_accuracy', 'loss', 'f1_score', 'MatthewsCorrelationCoefficient'])"
   ]
  },
  {
   "cell_type": "code",
   "execution_count": null,
   "metadata": {
    "execution": {
     "iopub.status.busy": "2022-01-31T17:26:59.956436Z",
     "iopub.status.idle": "2022-01-31T17:26:59.957040Z",
     "shell.execute_reply": "2022-01-31T17:26:59.956788Z",
     "shell.execute_reply.started": "2022-01-31T17:26:59.956762Z"
    }
   },
   "outputs": [],
   "source": [
    "train_history.history"
   ]
  },
  {
   "cell_type": "markdown",
   "metadata": {},
   "source": [
    "### Save Model Weights"
   ]
  },
  {
   "cell_type": "code",
   "execution_count": 33,
   "metadata": {
    "execution": {
     "iopub.execute_input": "2022-01-31T17:52:30.139642Z",
     "iopub.status.busy": "2022-01-31T17:52:30.138894Z",
     "iopub.status.idle": "2022-01-31T17:52:30.149975Z",
     "shell.execute_reply": "2022-01-31T17:52:30.148798Z",
     "shell.execute_reply.started": "2022-01-31T17:52:30.139595Z"
    }
   },
   "outputs": [],
   "source": [
    "#def touch_dir(dirname):\n",
    "#    if not os.path.exists(dirname):\n",
    "#        os.makedirs(dirname)\n",
    "#        print(f\"Created directory {dirname}.\")\n",
    "#    else:\n",
    "#        print(f\"Directory {dirname} already exists.\")\n",
    "\n",
    "\n",
    "def save_model(model, transformer_dir='.'):\n",
    "    \"\"\"\n",
    "    Special function to load a keras model that uses a transformer layer\n",
    "    \"\"\"\n",
    "    import pickle\n",
    "    transformer = model.layers[1]\n",
    "    #touch_dir(transformer_dir)\n",
    "    transformer.save_pretrained(transformer_dir)\n",
    "    softmax = model.get_layer('softmax').get_weights()\n",
    "    pickle.dump(softmax, open('softmax.pickle', 'wb'))\n",
    "\n",
    "def load_model(transformer_dir='.', max_len=256):\n",
    "    \"\"\"\n",
    "    Special function to load a keras model that uses a transformer layer\n",
    "    \"\"\"\n",
    "    transformer = TFAutoModel.from_pretrained(transformer_dir)\n",
    "    model = build_model(transformer, max_len=max_len)\n",
    "    softmax = pickle.load(open('softmax.pickle', 'rb'))\n",
    "    model.get_layer('softmax').set_weights(softmax)\n",
    "\n",
    "    return model"
   ]
  },
  {
   "cell_type": "code",
   "execution_count": 34,
   "metadata": {
    "execution": {
     "iopub.execute_input": "2022-01-31T17:52:32.668634Z",
     "iopub.status.busy": "2022-01-31T17:52:32.667904Z",
     "iopub.status.idle": "2022-01-31T17:52:38.637783Z",
     "shell.execute_reply": "2022-01-31T17:52:38.636818Z",
     "shell.execute_reply.started": "2022-01-31T17:52:32.668589Z"
    }
   },
   "outputs": [],
   "source": [
    "save_model(model, transformer_dir='.')"
   ]
  },
  {
   "cell_type": "code",
   "execution_count": 37,
   "metadata": {
    "execution": {
     "iopub.execute_input": "2022-01-31T17:53:43.425885Z",
     "iopub.status.busy": "2022-01-31T17:53:43.425575Z",
     "iopub.status.idle": "2022-01-31T17:53:43.431626Z",
     "shell.execute_reply": "2022-01-31T17:53:43.430999Z",
     "shell.execute_reply.started": "2022-01-31T17:53:43.425852Z"
    }
   },
   "outputs": [
    {
     "data": {
      "text/html": [
       "<a href='./tf_model.h5' target='_blank'>./tf_model.h5</a><br>"
      ],
      "text/plain": [
       "/kaggle/working/tf_model.h5"
      ]
     },
     "execution_count": 37,
     "metadata": {},
     "output_type": "execute_result"
    }
   ],
   "source": [
    "from IPython.display import FileLink\n",
    "FileLink('./tf_model.h5')"
   ]
  },
  {
   "cell_type": "code",
   "execution_count": null,
   "metadata": {},
   "outputs": [],
   "source": []
  }
 ],
 "metadata": {
  "kernelspec": {
   "display_name": "Python 3 (ipykernel)",
   "language": "python",
   "name": "python3"
  },
  "language_info": {
   "codemirror_mode": {
    "name": "ipython",
    "version": 3
   },
   "file_extension": ".py",
   "mimetype": "text/x-python",
   "name": "python",
   "nbconvert_exporter": "python",
   "pygments_lexer": "ipython3",
   "version": "3.9.7"
  }
 },
 "nbformat": 4,
 "nbformat_minor": 4
}
